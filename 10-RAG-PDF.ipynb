{
 "cells": [
  {
   "cell_type": "markdown",
   "id": "677b7e64",
   "metadata": {},
   "source": [
    "# Laboratório RAG com LangChain, Groq e Pinecone"
   ]
  },
  {
   "cell_type": "markdown",
   "id": "361c7b54",
   "metadata": {
    "vscode": {
     "languageId": "plaintext"
    }
   },
   "source": [
    "Este notebook demonstra a implementação de um sistema Retrieval-Augmented Generation (RAG) utilizando a biblioteca LangChain, modelos de linguagem da Groq e o Pinecone como banco de dados vetorial. O objetivo é responder a perguntas com base em documentos PDF fornecidos, focando em atividades físicas e musculação."
   ]
  },
  {
   "cell_type": "markdown",
   "id": "483f54d5",
   "metadata": {},
   "source": [
    "## Configuração do Ambiente"
   ]
  },
  {
   "cell_type": "markdown",
   "id": "f84b8f8a",
   "metadata": {},
   "source": [
    "### Importar bibliotecas"
   ]
  },
  {
   "cell_type": "code",
   "execution_count": null,
   "id": "b84d52f9",
   "metadata": {},
   "outputs": [],
   "source": [
    "from langchain_groq import ChatGroq\n",
    "from langchain_community.document_loaders import PyPDFLoader\n",
    "from langchain.text_splitter import RecursiveCharacterTextSplitter\n",
    "from langchain_community.embeddings import HuggingFaceEmbeddings\n",
    "from pinecone import Pinecone, ServerlessSpec\n",
    "from langchain_pinecone import PineconeVectorStore\n",
    "from langchain.chains import create_retrieval_chain\n",
    "from langchain.chains.combine_documents import create_stuff_documents_chain\n",
    "from langchain_core.prompts import ChatPromptTemplate\n",
    "import zipfile\n",
    "import os\n",
    "import shutil\n",
    "import time"
   ]
  },
  {
   "cell_type": "markdown",
   "id": "5a83074c",
   "metadata": {},
   "source": [
    "### Configuração das Chaves de API"
   ]
  },
  {
   "cell_type": "code",
   "execution_count": null,
   "id": "5b5d2ae1",
   "metadata": {},
   "outputs": [],
   "source": [
    "from dotenv import find_dotenv, load_dotenv\n",
    "\n",
    "load_dotenv(find_dotenv())"
   ]
  },
  {
   "cell_type": "markdown",
   "id": "0d53d26e",
   "metadata": {},
   "source": [
    "## Carregando a LLM da Groq"
   ]
  },
  {
   "cell_type": "code",
   "execution_count": null,
   "id": "102e76c8",
   "metadata": {},
   "outputs": [],
   "source": [
    "llm = ChatGroq(model_name='llama-3.3-70b-versatile',temperature=0)"
   ]
  },
  {
   "cell_type": "markdown",
   "id": "1a60c9b7",
   "metadata": {},
   "source": [
    "## Carregamento e Processamento dos Documentos PDF"
   ]
  },
  {
   "cell_type": "code",
   "execution_count": null,
   "id": "156703b1",
   "metadata": {},
   "outputs": [],
   "source": [
    "zip_file_path = 'Arquivos.zip'\n",
    "extracted_folder_path = 'docs'"
   ]
  },
  {
   "cell_type": "markdown",
   "id": "6660ecef",
   "metadata": {},
   "source": [
    "### Extração dos PDFs do arquivo ZIP"
   ]
  },
  {
   "cell_type": "code",
   "execution_count": null,
   "id": "a528229b",
   "metadata": {},
   "outputs": [],
   "source": [
    "with zipfile.ZipFile(zip_file_path, 'r') as zip_ref:\n",
    "    zip_ref.extractall(extracted_folder_path)"
   ]
  },
  {
   "cell_type": "markdown",
   "id": "ea574d2c",
   "metadata": {},
   "source": [
    "### Leitura dos Documentos PDF"
   ]
  },
  {
   "cell_type": "code",
   "execution_count": null,
   "id": "f1a95b5c",
   "metadata": {},
   "outputs": [],
   "source": [
    "documents = []\n",
    "for filename in os.listdir(extracted_folder_path):\n",
    "    if filename.endswith(\".pdf\"):\n",
    "        file_path = os.path.join(extracted_folder_path, filename)\n",
    "        loader = PyPDFLoader(file_path)\n",
    "        documents.extend(loader.load())"
   ]
  },
  {
   "cell_type": "code",
   "execution_count": null,
   "id": "8d29cf74",
   "metadata": {},
   "outputs": [],
   "source": [
    "# Antes de apagar, é uma boa prática verificar se o diretório existe\n",
    "if os.path.exists(extracted_folder_path):\n",
    "    print(f\"Apagando o diretório e seu conteúdo: {extracted_folder_path}\")\n",
    "    try:\n",
    "        # A função rmtree() remove o diretório e tudo que está dentro dele\n",
    "        shutil.rmtree(extracted_folder_path)\n",
    "        print(\"Diretório apagado com sucesso.\")\n",
    "    except OSError as e:\n",
    "        print(f\"Erro: {e.strerror}\")\n",
    "else:\n",
    "    print(f\"O diretório '{extracted_folder_path}' não existe.\")"
   ]
  },
  {
   "cell_type": "markdown",
   "id": "f551dfb5",
   "metadata": {},
   "source": [
    "## Geração de Embeddings e Armazenamento no Pinecone"
   ]
  },
  {
   "cell_type": "markdown",
   "id": "135f3558",
   "metadata": {},
   "source": [
    "### Divisão dos Documentos em Chunks"
   ]
  },
  {
   "cell_type": "code",
   "execution_count": null,
   "id": "074e0023",
   "metadata": {},
   "outputs": [],
   "source": [
    "text_splitter = RecursiveCharacterTextSplitter(chunk_size=1000, chunk_overlap=200)\n",
    "docs = text_splitter.split_documents(documents)\n"
   ]
  },
  {
   "cell_type": "code",
   "execution_count": null,
   "id": "1bd817a6",
   "metadata": {},
   "outputs": [],
   "source": [
    "print(f'Total de chunks: {len(docs)}')"
   ]
  },
  {
   "cell_type": "code",
   "execution_count": null,
   "id": "18fff2d9",
   "metadata": {},
   "outputs": [],
   "source": [
    "docs[1]"
   ]
  },
  {
   "cell_type": "markdown",
   "id": "0f6d2426",
   "metadata": {},
   "source": [
    "### Inicializar modelo de embeddings (HuggingFace para uso local/gratuito)"
   ]
  },
  {
   "cell_type": "code",
   "execution_count": null,
   "id": "913c3834",
   "metadata": {},
   "outputs": [],
   "source": [
    "\n",
    "embeddings = HuggingFaceEmbeddings(model_name='sentence-transformers/all-MiniLM-L6-v2')"
   ]
  },
  {
   "cell_type": "markdown",
   "id": "abfc4a5b",
   "metadata": {},
   "source": [
    "### Inicializar Pinecone"
   ]
  },
  {
   "cell_type": "code",
   "execution_count": null,
   "id": "512a0ca7",
   "metadata": {},
   "outputs": [],
   "source": [
    "pc = Pinecone(api_key=os.environ.get(\"PINECONE_API_KEY\"))"
   ]
  },
  {
   "cell_type": "code",
   "execution_count": null,
   "id": "0f2811a4",
   "metadata": {},
   "outputs": [],
   "source": [
    "index_name = \"rag-musculacao\" \n",
    "existing_indexes = [index_info[\"name\"] for index_info in pc.list_indexes()] # change if desired"
   ]
  },
  {
   "cell_type": "markdown",
   "id": "57e56649",
   "metadata": {},
   "source": [
    "### Deletar e recriar o índice para garantir que a dimensão esteja correta"
   ]
  },
  {
   "cell_type": "code",
   "execution_count": null,
   "id": "16549a41",
   "metadata": {},
   "outputs": [],
   "source": [
    "\n",
    "if index_name in existing_indexes:\n",
    "    print(f\"Deletando o índice existente '{index_name}'...\")\n",
    "    pc.delete_index(index_name)\n",
    "    time.sleep(1) # Aguardar a exclusão"
   ]
  },
  {
   "cell_type": "code",
   "execution_count": null,
   "id": "0fa15708",
   "metadata": {},
   "outputs": [],
   "source": [
    "pc.create_index(\n",
    "    name=index_name,\n",
    "    metric=\"cosine\",\n",
    "    dimension=384, # Isso irá retornar 384\n",
    "    spec=ServerlessSpec(cloud=\"aws\", region=\"us-east-1\")\n",
    ")\n",
    "while not pc.describe_index(index_name).status[\"ready\"]:\n",
    "    print(\"Aguardando o índice ficar pronto...\"+pc.describe_index(index_name).status)\n",
    "    time.sleep(1)\n",
    "\n",
    "index = pc.Index(index_name)"
   ]
  },
  {
   "cell_type": "markdown",
   "id": "90c2151a",
   "metadata": {},
   "source": [
    "### Criar ou conectar ao VectorStore do Pinecone"
   ]
  },
  {
   "cell_type": "code",
   "execution_count": null,
   "id": "2e7548db",
   "metadata": {},
   "outputs": [],
   "source": [
    "vectorstore = PineconeVectorStore.from_documents(\n",
    "    documents=docs,\n",
    "    embedding=embeddings,\n",
    "    index_name=index_name,\n",
    ")"
   ]
  },
  {
   "cell_type": "markdown",
   "id": "e78023bc",
   "metadata": {},
   "source": [
    "## Construção da Cadeia RAG"
   ]
  },
  {
   "cell_type": "markdown",
   "id": "8618c261",
   "metadata": {},
   "source": [
    "#### Definir o prompt para a LLM"
   ]
  },
  {
   "cell_type": "code",
   "execution_count": null,
   "id": "dde26ca3",
   "metadata": {},
   "outputs": [],
   "source": [
    "\n",
    "prompt = ChatPromptTemplate.from_template(\"\"\"Responda à pergunta com base apenas no contexto fornecido.\n",
    "Se você não souber a resposta, diga que não sabe, não tente inventar uma resposta.\n",
    "\n",
    "Contexto: {context}\n",
    "\n",
    "Pergunta: {input}\"\"\")"
   ]
  },
  {
   "cell_type": "markdown",
   "id": "7136b199",
   "metadata": {},
   "source": [
    "### Criar a cadeia de documentos"
   ]
  },
  {
   "cell_type": "code",
   "execution_count": null,
   "id": "e447af11",
   "metadata": {},
   "outputs": [],
   "source": [
    "\n",
    "document_chain = create_stuff_documents_chain(llm, prompt)\n",
    "\n"
   ]
  },
  {
   "cell_type": "markdown",
   "id": "d996a07c",
   "metadata": {},
   "source": [
    "### Criar a cadeia de recuperação"
   ]
  },
  {
   "cell_type": "code",
   "execution_count": null,
   "id": "aa259fe1",
   "metadata": {},
   "outputs": [],
   "source": [
    "\n",
    "retrieval_chain = create_retrieval_chain(vectorstore.as_retriever(), document_chain)"
   ]
  },
  {
   "cell_type": "markdown",
   "id": "23d742d6",
   "metadata": {},
   "source": [
    "## Testando o Sistema RAG"
   ]
  },
  {
   "cell_type": "code",
   "execution_count": null,
   "id": "23717504",
   "metadata": {},
   "outputs": [],
   "source": [
    "# Função para fazer perguntas\n",
    "def ask_question(question):\n",
    "    response = retrieval_chain.invoke({\"input\": question})\n",
    "    print(f\"Pergunta: {question}\")\n",
    "    print(f\"Resposta: {response['answer']}\")\n",
    "    "
   ]
  },
  {
   "cell_type": "code",
   "execution_count": null,
   "id": "6828f4cb",
   "metadata": {},
   "outputs": [],
   "source": [
    "#Exemplos de perguntas (use os prompts e perguntas de teste )\n",
    "\n",
    "pergunta1 = \"Quais são os principais benefícios da atividade física regular para a saúde cardiovascular?\"\n",
    "\n",
    "pergunta2 = \"Explique o princípio da sobrecarga progressiva na musculação.\"\n",
    "\n",
    "pergunta3 = \"Qual a importância dos carboidratos na nutrição para atividade física?\"\n",
    "\n",
    "pergunta4 = \"Cite três exercícios essenciais para membros superiores e seus principais músculos trabalhados.\"\n",
    "\n",
    "pergunta5 = \"O que é periodização do treinamento e quais são seus principais ciclos?\"\n",
    "\n",
    "pergunta6 = \"Quais são as principais estratégias para prevenir lesões na musculação?\""
   ]
  },
  {
   "cell_type": "code",
   "execution_count": null,
   "id": "b2e93855",
   "metadata": {},
   "outputs": [],
   "source": [
    "ask_question(pergunta3)"
   ]
  },
  {
   "cell_type": "markdown",
   "id": "835118f6",
   "metadata": {},
   "source": [
    "## Limpeza (Opcional)"
   ]
  },
  {
   "cell_type": "code",
   "execution_count": null,
   "id": "868c79aa",
   "metadata": {},
   "outputs": [],
   "source": [
    "# Para deletar o índice do Pinecone (use com cautela!)\n",
    "# pc.delete_index(index_name)"
   ]
  }
 ],
 "metadata": {
  "kernelspec": {
   "display_name": "langchain",
   "language": "python",
   "name": "python3"
  },
  "language_info": {
   "codemirror_mode": {
    "name": "ipython",
    "version": 3
   },
   "file_extension": ".py",
   "mimetype": "text/x-python",
   "name": "python",
   "nbconvert_exporter": "python",
   "pygments_lexer": "ipython3",
   "version": "3.13.5"
  }
 },
 "nbformat": 4,
 "nbformat_minor": 5
}
