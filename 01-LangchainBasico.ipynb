{
 "cells": [
  {
   "cell_type": "markdown",
   "metadata": {},
   "source": [
    "# Setpup"
   ]
  },
  {
   "cell_type": "code",
   "execution_count": null,
   "metadata": {
    "editable": true,
    "id": "2ytPLsuJfx1d",
    "slideshow": {
     "slide_type": ""
    },
    "tags": []
   },
   "outputs": [],
   "source": [
    "from langchain_groq import ChatGroq"
   ]
  },
  {
   "cell_type": "code",
   "execution_count": 3,
   "metadata": {},
   "outputs": [
    {
     "data": {
      "text/plain": [
       "True"
      ]
     },
     "execution_count": 3,
     "metadata": {},
     "output_type": "execute_result"
    }
   ],
   "source": [
    "from dotenv import find_dotenv, load_dotenv\n",
    "\n",
    "load_dotenv(find_dotenv())"
   ]
  },
  {
   "cell_type": "markdown",
   "metadata": {
    "id": "YmLVQ3dgzKdm"
   },
   "source": [
    "# Chat"
   ]
  },
  {
   "cell_type": "code",
   "execution_count": null,
   "metadata": {
    "colab": {
     "base_uri": "https://localhost:8080/"
    },
    "id": "kFb-LFPTdqp5",
    "outputId": "b1d82bde-6b08-48ed-a664-0cf1774f7356"
   },
   "outputs": [
    {
     "name": "stdout",
     "output_type": "stream",
     "text": [
      "content='Carl Sagan (1934-1996) foi um astrónomo, cientista, escritor e popularizador da ciência estadunidense. Ele foi um dos jornalistas científicos mais bem conhecidos e influentes do século 20, e sua obra legou um legado importante na advocacy da ciência e na compreensão do séquito da humanidade.\\n\\nCarl Sagan nasceu na cidade de Brooklyn, Nova York, Estados Unidos. Ele recebeu um Bachelor in Science em física e astronomia pela Universidade de Chicago, e um Ph.D. em astroético pela rin de Ciências, também da Universidade de Chicago.\\n\\nSagan foi um prolífico academia e cientista, com uma ampla gama de interesses e contribuições na área da astrofísica, eó e meteorologia, além de ciência e filosofia. Ele fez contribuições importantes para a compreensão dos fenômenos naturais, incluindo os fogos de estandes de cometaines e eólicas.\\n\\nSagan também foi um grande comunicador da ciência, e seu objetivo era tornar a ciência acessível e entendida para o público em geral. Ele pensava que a ciência era e deve ser um processo de colaboração entre professores, jornalistas, artistas e pessoas comuns e, portanto, acreditava que era importante se comprometer à precisa e interessante compartilhar da ciência com o público.\\n\\nCarl Sagan é remembered por sua habilidade para racionalizar e interpretar complexos conceitos e fenômenos em linguagem acessível, o que o fez um dos communicadores da ciência mais influentes da historia. Além disso, seu escrita foi sempre bem-sucedida em inspirar curiosidade e amor pela ciência e pela historia da humanidade.\\n\\nAlguns dos seus livros mais famosos incluem:\\n\\n* Possibilidade de outra terram\\n* Como saberemos\\n* Cosmos\\n* Pale blue dot\\n* Borboleta impressão\\n\\nSagan também foi o corruço do seriado de televisão inspirado em seu livro \"Cosmos\", que foi inspirado na sua serie de estrutura da serie de estrutura o da série de la série de televisão, que foi emitida pela primeira vez em 1980 e alcançou uma' additional_kwargs={} response_metadata={'token_usage': {'completion_tokens': 500, 'prompt_tokens': 17, 'total_tokens': 517, 'completion_time': 0.539919274, 'prompt_time': 0.002788453, 'queue_time': 0.145469261, 'total_time': 0.542707727}, 'model_name': 'llama3-8b-8192', 'system_fingerprint': 'fp_c0b3855449', 'service_tier': 'on_demand', 'finish_reason': 'length', 'logprobs': None} id='run--3c2e702c-7f88-402a-83c4-75a912fea24d-0' usage_metadata={'input_tokens': 17, 'output_tokens': 500, 'total_tokens': 517}\n"
     ]
    }
   ],
   "source": [
    "openai = ChatGroq(model_name='llama3-8b-8192')\n",
    "frequency_penalty=1\n",
    "presence_penalty = 1\n",
    "temperature =  1\n",
    "max_tokens=500\n",
    "n = 1\n",
    "seed = 123\n",
    "response = openai.invoke(input='Quem foi Carl Sagan?', temperature=temperature,\n",
    "                    frequency_penalty=frequency_penalty,presence_penalty=presence_penalty,\n",
    "                    max_tokens=max_tokens,n=n, seed=seed)\n",
    "print(response)"
   ]
  },
  {
   "cell_type": "code",
   "execution_count": 7,
   "metadata": {
    "colab": {
     "base_uri": "https://localhost:8080/"
    },
    "id": "AE1XHZmWxS4X",
    "outputId": "daf2f1de-2449-4794-84d1-c74fbc31f0bf"
   },
   "outputs": [
    {
     "name": "stdout",
     "output_type": "stream",
     "text": [
      "content='Um homem incrível! Carl Sagan foi um astrónomo, astrofísico, cosmologista e escritor americano, nascido em 1934 e falecido em 1996. Ele é mais conhecido por ser um dos científicos mais populares e influentes da história, e por sua capacidade de transmitir a ciência à população em geral de forma acessível e atraente.\\n\\nSagan foi professor da Universidade de Cornell e foi membro da NASA como cientista consultor. Foi um dos principais defensores da ideia da vida extraterrestre e foi um dos primeiros a promover a ideia de que a Terra pode não ser o único planeta habitado.\\n\\nEle é também famoso por seu programa de televisão \"Cosmos: Uma Viagem Pessoal\", que foi ao ar em 1980 e foi um sucesso absoluto. O programa apresentava temas como a formação do universo, a evolução da vida e a busca por inteligência extraterrestre.\\n\\nSagan também foi um defensor da razão, da crítica ao fundamentalismo religioso e da importância da ciência para a compreensão do mundo. Ele foi um dos primeiros cientistas a alertar para o perigo do aquecimento global e da destruição da Terra.\\n\\nCarl Sagan foi um homem de grande eloquência e habilidade comunicativa, e sua obra continua a inspirar gerações de cientistas, filósofos e curiosos em geral.' additional_kwargs={} response_metadata={'token_usage': {'completion_tokens': 328, 'prompt_tokens': 39, 'total_tokens': 367, 'completion_time': 0.391698671, 'prompt_time': 0.005963134, 'queue_time': 0.14581822, 'total_time': 0.397661805}, 'model_name': 'llama3-8b-8192', 'system_fingerprint': 'fp_343314801a', 'service_tier': 'on_demand', 'finish_reason': 'stop', 'logprobs': None} id='run--c4d50d8d-1e3d-41dc-9219-fcb99a169829-0' usage_metadata={'input_tokens': 39, 'output_tokens': 328, 'total_tokens': 367}\n"
     ]
    }
   ],
   "source": [
    "openai = ChatGroq(model_name='llama3-8b-8192')\n",
    "messages = [\n",
    "    {\"role\": \"system\", \"content\": \"Você é um assistente que fornece informações sobre figuras históricas.\"},\n",
    "    {\"role\": \"user\", \"content\": \"Quem foi Carl Sagan?\"}\n",
    "]\n",
    "response = openai.invoke(messages)\n",
    "print(response)"
   ]
  },
  {
   "cell_type": "code",
   "execution_count": 8,
   "metadata": {
    "colab": {
     "base_uri": "https://localhost:8080/"
    },
    "id": "MTBMLJXlyOZ_",
    "outputId": "313c0e4c-99ff-4a54-c91c-b98823c9e7e6"
   },
   "outputs": [
    {
     "name": "stdout",
     "output_type": "stream",
     "text": [
      "Um homem incrível! Carl Sagan foi um astrónomo, astrofísico, cosmologista e escritor americano, nascido em 1934 e falecido em 1996. Ele é mais conhecido por ser um dos científicos mais populares e influentes da história, e por sua capacidade de transmitir a ciência à população em geral de forma acessível e atraente.\n",
      "\n",
      "Sagan foi professor da Universidade de Cornell e foi membro da NASA como cientista consultor. Foi um dos principais defensores da ideia da vida extraterrestre e foi um dos primeiros a promover a ideia de que a Terra pode não ser o único planeta habitado.\n",
      "\n",
      "Ele é também famoso por seu programa de televisão \"Cosmos: Uma Viagem Pessoal\", que foi ao ar em 1980 e foi um sucesso absoluto. O programa apresentava temas como a formação do universo, a evolução da vida e a busca por inteligência extraterrestre.\n",
      "\n",
      "Sagan também foi um defensor da razão, da crítica ao fundamentalismo religioso e da importância da ciência para a compreensão do mundo. Ele foi um dos primeiros cientistas a alertar para o perigo do aquecimento global e da destruição da Terra.\n",
      "\n",
      "Carl Sagan foi um homem de grande eloquência e habilidade comunicativa, e sua obra continua a inspirar gerações de cientistas, filósofos e curiosos em geral.\n"
     ]
    }
   ],
   "source": [
    "print(response.content)"
   ]
  },
  {
   "cell_type": "code",
   "execution_count": null,
   "metadata": {
    "editable": true,
    "slideshow": {
     "slide_type": ""
    },
    "tags": []
   },
   "outputs": [],
   "source": []
  }
 ],
 "metadata": {
  "colab": {
   "provenance": []
  },
  "kernelspec": {
   "display_name": "langchain",
   "language": "python",
   "name": "python3"
  },
  "language_info": {
   "codemirror_mode": {
    "name": "ipython",
    "version": 3
   },
   "file_extension": ".py",
   "mimetype": "text/x-python",
   "name": "python",
   "nbconvert_exporter": "python",
   "pygments_lexer": "ipython3",
   "version": "3.13.5"
  }
 },
 "nbformat": 4,
 "nbformat_minor": 4
}
