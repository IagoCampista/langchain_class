{
 "cells": [
  {
   "cell_type": "markdown",
   "metadata": {},
   "source": [
    "# Setup"
   ]
  },
  {
   "cell_type": "code",
   "execution_count": 40,
   "metadata": {
    "editable": true,
    "id": "6eGKcwYtdWVu",
    "slideshow": {
     "slide_type": ""
    },
    "tags": []
   },
   "outputs": [],
   "source": [
    "from langchain_groq import ChatGroq\n",
    "from langchain.cache import InMemoryCache,SQLiteCache\n",
    "from langchain.globals import set_llm_cache\n",
    "import os\n",
    "import json\n",
    "import hashlib\n"
   ]
  },
  {
   "cell_type": "code",
   "execution_count": 41,
   "metadata": {},
   "outputs": [
    {
     "data": {
      "text/plain": [
       "True"
      ]
     },
     "execution_count": 41,
     "metadata": {},
     "output_type": "execute_result"
    }
   ],
   "source": [
    "from dotenv import find_dotenv, load_dotenv\n",
    "\n",
    "load_dotenv(find_dotenv())"
   ]
  },
  {
   "cell_type": "code",
   "execution_count": 42,
   "metadata": {
    "id": "8VOSdK2vdfeO"
   },
   "outputs": [],
   "source": [
    "groq = ChatGroq(model_name='llama3-8b-8192')\n",
    "set_llm_cache(InMemoryCache())"
   ]
  },
  {
   "cell_type": "markdown",
   "metadata": {
    "id": "TftZH6m-pSe4"
   },
   "source": [
    "# Memória"
   ]
  },
  {
   "cell_type": "code",
   "execution_count": 43,
   "metadata": {
    "colab": {
     "base_uri": "https://localhost:8080/"
    },
    "id": "TCOBpmFBdfho",
    "outputId": "ccdade8c-6e16-41b2-f4e1-495112be3eda"
   },
   "outputs": [
    {
     "name": "stdout",
     "output_type": "stream",
     "text": [
      "Primeira resposta (API chamada): content='Carl Sagan foi um astrofísico e cosmológico estadunidense, autor e apresentador de TV. Ele foi um defensor da ciência e da razão, e sua obra \"Cosmos\" é uma das mais influentes sobre a astronomia e a filosofia da ciência.' additional_kwargs={} response_metadata={'token_usage': {'completion_tokens': 67, 'prompt_tokens': 24, 'total_tokens': 91, 'completion_time': 0.08358044, 'prompt_time': 0.004073822, 'queue_time': 0.145892772, 'total_time': 0.087654262}, 'model_name': 'llama3-8b-8192', 'system_fingerprint': 'fp_343314801a', 'service_tier': 'on_demand', 'finish_reason': 'stop', 'logprobs': None} id='run--9ca5102b-3cfd-4008-aa03-633a3ef3de92-0' usage_metadata={'input_tokens': 24, 'output_tokens': 67, 'total_tokens': 91}\n"
     ]
    }
   ],
   "source": [
    "prompt = 'Me diga em poucas palavras que foi Carl Sagan.'\n",
    "response1 = groq.invoke(prompt)\n",
    "print(\"Primeira resposta (API chamada):\", response1)"
   ]
  },
  {
   "cell_type": "code",
   "execution_count": 44,
   "metadata": {
    "colab": {
     "base_uri": "https://localhost:8080/"
    },
    "id": "-SuwTClBdfkU",
    "outputId": "aed30081-9aa1-456c-a948-f5b118a431f9"
   },
   "outputs": [
    {
     "name": "stdout",
     "output_type": "stream",
     "text": [
      "Segunda resposta (usando cache): content='Carl Sagan foi um astrofísico e cosmológico estadunidense, autor e apresentador de TV. Ele foi um defensor da ciência e da razão, e sua obra \"Cosmos\" é uma das mais influentes sobre a astronomia e a filosofia da ciência.' additional_kwargs={} response_metadata={'token_usage': {'completion_tokens': 67, 'prompt_tokens': 24, 'total_tokens': 91, 'completion_time': 0.08358044, 'prompt_time': 0.004073822, 'queue_time': 0.145892772, 'total_time': 0.087654262}, 'model_name': 'llama3-8b-8192', 'system_fingerprint': 'fp_343314801a', 'service_tier': 'on_demand', 'finish_reason': 'stop', 'logprobs': None} id='run--9ca5102b-3cfd-4008-aa03-633a3ef3de92-0' usage_metadata={'input_tokens': 24, 'output_tokens': 67, 'total_tokens': 91, 'total_cost': 0}\n"
     ]
    }
   ],
   "source": [
    "response2 = groq.invoke(prompt)\n",
    "print(\"Segunda resposta (usando cache):\", response2)"
   ]
  },
  {
   "cell_type": "markdown",
   "metadata": {
    "id": "tTtYinh-pcj7"
   },
   "source": [
    "# Disco / Banco de Dados"
   ]
  },
  {
   "cell_type": "code",
   "execution_count": 45,
   "metadata": {
    "id": "dp4gExg3lbAH"
   },
   "outputs": [],
   "source": [
    "set_llm_cache(SQLiteCache(database_path=\"groq_cache.db\"))"
   ]
  },
  {
   "cell_type": "code",
   "execution_count": 46,
   "metadata": {
    "id": "Zh0m5jo8lggv"
   },
   "outputs": [],
   "source": [
    "prompt = 'Me diga em poucas palavras quem foi Neil Armstrong.'"
   ]
  },
  {
   "cell_type": "code",
   "execution_count": 47,
   "metadata": {
    "colab": {
     "base_uri": "https://localhost:8080/"
    },
    "id": "gAeoflbzlbDK",
    "outputId": "ef4c5f9f-0fed-431b-96be-ef30eed34370"
   },
   "outputs": [
    {
     "name": "stdout",
     "output_type": "stream",
     "text": [
      "Primeira resposta (API chamada): content='Neil Armstrong foi um astronauta norte-americano que foi o primeiro homem a caminhar na Lua em 20 de julho de 1969, durante a missão Apollo 11.' additional_kwargs={} response_metadata={'token_usage': {'completion_tokens': 42, 'prompt_tokens': 23, 'total_tokens': 65, 'completion_time': 0.027953195, 'prompt_time': 0.007863625, 'queue_time': 0.145866529, 'total_time': 0.03581682}, 'model_name': 'llama3-8b-8192', 'system_fingerprint': 'fp_0fb809dba3', 'service_tier': 'on_demand', 'finish_reason': 'stop', 'logprobs': None} id='run--f447f9b3-45b2-4add-8b5e-f4d0d7b69828-0' usage_metadata={'input_tokens': 23, 'output_tokens': 42, 'total_tokens': 65, 'total_cost': 0}\n"
     ]
    }
   ],
   "source": [
    "response1 = groq.invoke(prompt)\n",
    "print(\"Primeira resposta (API chamada):\", response1)"
   ]
  },
  {
   "cell_type": "code",
   "execution_count": 48,
   "metadata": {
    "colab": {
     "base_uri": "https://localhost:8080/"
    },
    "id": "XNlIF1YklbF4",
    "outputId": "621f0482-030d-4dc1-a2ca-e020168b7d51"
   },
   "outputs": [
    {
     "name": "stdout",
     "output_type": "stream",
     "text": [
      "Segunda resposta (usando cache): content='Neil Armstrong foi um astronauta norte-americano que foi o primeiro homem a caminhar na Lua em 20 de julho de 1969, durante a missão Apollo 11.' additional_kwargs={} response_metadata={'token_usage': {'completion_tokens': 42, 'prompt_tokens': 23, 'total_tokens': 65, 'completion_time': 0.027953195, 'prompt_time': 0.007863625, 'queue_time': 0.145866529, 'total_time': 0.03581682}, 'model_name': 'llama3-8b-8192', 'system_fingerprint': 'fp_0fb809dba3', 'service_tier': 'on_demand', 'finish_reason': 'stop', 'logprobs': None} id='run--f447f9b3-45b2-4add-8b5e-f4d0d7b69828-0' usage_metadata={'input_tokens': 23, 'output_tokens': 42, 'total_tokens': 65, 'total_cost': 0}\n"
     ]
    }
   ],
   "source": [
    "response2 = groq.invoke(prompt)\n",
    "print(\"Segunda resposta (usando cache):\", response2)"
   ]
  },
  {
   "cell_type": "markdown",
   "metadata": {
    "id": "gCzytB3cph2u"
   },
   "source": [
    "# Personalizado"
   ]
  },
  {
   "cell_type": "code",
   "execution_count": 49,
   "metadata": {
    "id": "hQdCdSoAps26"
   },
   "outputs": [],
   "source": [
    "class SimpleDiskCache:\n",
    "    def __init__(self, cache_dir='cache_dir'):\n",
    "        self.cache_dir = cache_dir\n",
    "        os.makedirs(self.cache_dir, exist_ok=True)\n",
    "\n",
    "    def _get_cache_path(self, key):\n",
    "        hashed_key = hashlib.md5(key.encode()).hexdigest() #hasg cria nome de arquivo único\n",
    "        return os.path.join(self.cache_dir, f\"{hashed_key}.json\")\n",
    "\n",
    "    def lookup(self, key, llm_string):\n",
    "        cache_path = self._get_cache_path(key)\n",
    "        if os.path.exists(cache_path):\n",
    "            with open(cache_path, 'r') as f:\n",
    "                return json.load(f)\n",
    "        return None\n",
    "\n",
    "    def update(self, key, value, llm_string):\n",
    "        cache_path = self._get_cache_path(key)\n",
    "        with open(cache_path, 'w') as f:\n",
    "            #json.dump(value.to_json(), f)\n",
    "            print(value)"
   ]
  },
  {
   "cell_type": "code",
   "execution_count": 50,
   "metadata": {
    "id": "wjp02OMnps59"
   },
   "outputs": [],
   "source": [
    "cache = SimpleDiskCache()\n",
    "set_llm_cache(cache)\n",
    "prompt = 'Me diga em poucas palavras quem foi Neil Degrasse Tyson.'"
   ]
  },
  {
   "cell_type": "code",
   "execution_count": 51,
   "metadata": {
    "id": "jD6mmnObps9C"
   },
   "outputs": [],
   "source": [
    "def invoke_with_cache(llm, prompt, cache):\n",
    "    cached_response = cache.lookup(prompt, \"\")\n",
    "    if cached_response:\n",
    "        print(\"Usando cache:\")\n",
    "        return cached_response\n",
    "\n",
    "    response = llm.invoke(prompt)\n",
    "    cache.update(prompt, response, \"\")\n",
    "    return response"
   ]
  },
  {
   "cell_type": "code",
   "execution_count": 52,
   "metadata": {
    "colab": {
     "base_uri": "https://localhost:8080/"
    },
    "id": "3yzsKC8CptAK",
    "outputId": "80e6f397-96cd-4058-cca7-679cc3158496"
   },
   "outputs": [
    {
     "name": "stdout",
     "output_type": "stream",
     "text": [
      "{\"id\": [\"langchain_groq\", \"chat_models\", \"ChatGroq\"], \"kwargs\": {\"groq_api_key\": {\"id\": [\"GROQ_API_KEY\"], \"lc\": 1, \"type\": \"secret\"}, \"max_retries\": 2, \"model_name\": \"llama3-8b-8192\", \"n\": 1, \"service_tier\": \"on_demand\", \"temperature\": 0.7}, \"lc\": 1, \"name\": \"ChatGroq\", \"type\": \"constructor\"}---[('stop', None)]\n",
      "content='Neil deGrasse Tyson é um astrofísico, escritor e apresentador de TV americano. Ele é conhecido por sua capacidade de explicar complexos conceitos científicos de forma acessível ao público em geral.' additional_kwargs={} response_metadata={'token_usage': {'completion_tokens': 50, 'prompt_tokens': 26, 'total_tokens': 76, 'completion_time': 0.062288931, 'prompt_time': 0.004261189, 'queue_time': 0.145108745, 'total_time': 0.06655012}, 'model_name': 'llama3-8b-8192', 'system_fingerprint': 'fp_343314801a', 'service_tier': 'on_demand', 'finish_reason': 'stop', 'logprobs': None} id='run--b5f8b153-0021-478a-ba96-fc14ab15368a-0' usage_metadata={'input_tokens': 26, 'output_tokens': 50, 'total_tokens': 76}\n"
     ]
    },
    {
     "ename": "AttributeError",
     "evalue": "'AIMessage' object has no attribute 'replace'",
     "output_type": "error",
     "traceback": [
      "\u001b[31m---------------------------------------------------------------------------\u001b[39m",
      "\u001b[31mAttributeError\u001b[39m                            Traceback (most recent call last)",
      "\u001b[36mCell\u001b[39m\u001b[36m \u001b[39m\u001b[32mIn[52]\u001b[39m\u001b[32m, line 2\u001b[39m\n\u001b[32m      1\u001b[39m response1 = invoke_with_cache(groq, prompt, cache)\n\u001b[32m----> \u001b[39m\u001b[32m2\u001b[39m response_text1 = \u001b[43mresponse1\u001b[49m\u001b[43m.\u001b[49m\u001b[43mreplace\u001b[49m(\u001b[33m'\u001b[39m\u001b[38;5;130;01m\\n\u001b[39;00m\u001b[33m'\u001b[39m, \u001b[33m'\u001b[39m\u001b[33m \u001b[39m\u001b[33m'\u001b[39m) \n\u001b[32m      4\u001b[39m \u001b[38;5;28mprint\u001b[39m(\u001b[33m\"\u001b[39m\u001b[33mPrimeira resposta (API chamada):\u001b[39m\u001b[33m\"\u001b[39m, response_text1)\n",
      "\u001b[36mFile \u001b[39m\u001b[32m/opt/anaconda3/envs/langchain/lib/python3.13/site-packages/pydantic/main.py:991\u001b[39m, in \u001b[36mBaseModel.__getattr__\u001b[39m\u001b[34m(self, item)\u001b[39m\n\u001b[32m    988\u001b[39m     \u001b[38;5;28;01mreturn\u001b[39;00m \u001b[38;5;28msuper\u001b[39m().\u001b[34m__getattribute__\u001b[39m(item)  \u001b[38;5;66;03m# Raises AttributeError if appropriate\u001b[39;00m\n\u001b[32m    989\u001b[39m \u001b[38;5;28;01melse\u001b[39;00m:\n\u001b[32m    990\u001b[39m     \u001b[38;5;66;03m# this is the current error\u001b[39;00m\n\u001b[32m--> \u001b[39m\u001b[32m991\u001b[39m     \u001b[38;5;28;01mraise\u001b[39;00m \u001b[38;5;167;01mAttributeError\u001b[39;00m(\u001b[33mf\u001b[39m\u001b[33m'\u001b[39m\u001b[38;5;132;01m{\u001b[39;00m\u001b[38;5;28mtype\u001b[39m(\u001b[38;5;28mself\u001b[39m).\u001b[34m__name__\u001b[39m\u001b[38;5;132;01m!r}\u001b[39;00m\u001b[33m object has no attribute \u001b[39m\u001b[38;5;132;01m{\u001b[39;00mitem\u001b[38;5;132;01m!r}\u001b[39;00m\u001b[33m'\u001b[39m)\n",
      "\u001b[31mAttributeError\u001b[39m: 'AIMessage' object has no attribute 'replace'"
     ]
    }
   ],
   "source": [
    "response1 = invoke_with_cache(groq, prompt, cache)\n",
    "response_text1 = response1.replace('\\n', ' ') \n",
    "\n",
    "print(\"Primeira resposta (API chamada):\", response_text1)"
   ]
  },
  {
   "cell_type": "code",
   "execution_count": null,
   "metadata": {
    "colab": {
     "base_uri": "https://localhost:8080/"
    },
    "editable": true,
    "id": "2CTyn8qtlbJB",
    "outputId": "b2695de3-0cd5-4cdc-afdc-3e2363464d6b",
    "slideshow": {
     "slide_type": ""
    },
    "tags": []
   },
   "outputs": [],
   "source": [
    "response2 = invoke_with_cache(groq, prompt, cache)\n",
    "response_text2 = response2.replace('\\n', ' ')  \n",
    "\n",
    "print(\"Segunda resposta (usando cache):\", response_text2)"
   ]
  },
  {
   "cell_type": "code",
   "execution_count": null,
   "metadata": {},
   "outputs": [],
   "source": []
  }
 ],
 "metadata": {
  "colab": {
   "provenance": []
  },
  "kernelspec": {
   "display_name": "langchain",
   "language": "python",
   "name": "python3"
  },
  "language_info": {
   "codemirror_mode": {
    "name": "ipython",
    "version": 3
   },
   "file_extension": ".py",
   "mimetype": "text/x-python",
   "name": "python",
   "nbconvert_exporter": "python",
   "pygments_lexer": "ipython3",
   "version": "3.13.5"
  }
 },
 "nbformat": 4,
 "nbformat_minor": 4
}
