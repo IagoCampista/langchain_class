{
 "cells": [
  {
   "cell_type": "markdown",
   "metadata": {
    "editable": true,
    "slideshow": {
     "slide_type": ""
    },
    "tags": []
   },
   "source": [
    "# Setup"
   ]
  },
  {
   "cell_type": "code",
   "execution_count": 1,
   "metadata": {
    "editable": true,
    "id": "ASzXPwDRUBxA",
    "slideshow": {
     "slide_type": ""
    },
    "tags": []
   },
   "outputs": [],
   "source": [
    "from langchain_groq import ChatGroq\n",
    "from langchain.prompts import PromptTemplate,ChatPromptTemplate, HumanMessagePromptTemplate\n",
    "from langchain_core.messages import SystemMessage, HumanMessage, AIMessage\n",
    "import os\n",
    "import yaml"
   ]
  },
  {
   "cell_type": "code",
   "execution_count": 2,
   "metadata": {},
   "outputs": [
    {
     "data": {
      "text/plain": [
       "True"
      ]
     },
     "execution_count": 2,
     "metadata": {},
     "output_type": "execute_result"
    }
   ],
   "source": [
    "from dotenv import find_dotenv, load_dotenv\n",
    "\n",
    "load_dotenv(find_dotenv())"
   ]
  },
  {
   "cell_type": "markdown",
   "metadata": {},
   "source": [
    "# Completion"
   ]
  },
  {
   "cell_type": "code",
   "execution_count": 3,
   "metadata": {
    "id": "eCBl659lZl7j"
   },
   "outputs": [],
   "source": [
    "template = '''\n",
    "Você é um analista financeiro.\n",
    "Escreva um relatório financeiro detalhado para a empresa \"{empresa}\" para o período {periodo}.\n",
    "\n",
    "O relatório deve ser escrito em {idioma} e incluir as seguintes análises:\n",
    "{analises}\n",
    "\n",
    "Certifique-se de fornecer insights e conclusões para cada seção.\n",
    "'''"
   ]
  },
  {
   "cell_type": "code",
   "execution_count": 4,
   "metadata": {
    "id": "zCezS4xvZl_C"
   },
   "outputs": [],
   "source": [
    "prompt_template = PromptTemplate.from_template(template=template)"
   ]
  },
  {
   "cell_type": "code",
   "execution_count": 5,
   "metadata": {
    "id": "z_YBQfANZmCi"
   },
   "outputs": [],
   "source": [
    "empresa = 'ACME Corp'\n",
    "periodo = 'Q1 2024'\n",
    "idioma = 'Português'\n",
    "analises = [\n",
    "    \"Análise do Balanço Patrimonial\",\n",
    "    \"Análise do Fluxo de Caixa\",\n",
    "    \"Análise de Tendências\",\n",
    "    \"Análise de Receita e Lucro\",\n",
    "    \"Análise de Posição de Mercado\"\n",
    "]\n",
    "analises_text = \"\\n\".join([f\"- {analise}\" for analise in analises])"
   ]
  },
  {
   "cell_type": "code",
   "execution_count": 6,
   "metadata": {},
   "outputs": [
    {
     "name": "stdout",
     "output_type": "stream",
     "text": [
      "- Análise do Balanço Patrimonial\n",
      "- Análise do Fluxo de Caixa\n",
      "- Análise de Tendências\n",
      "- Análise de Receita e Lucro\n",
      "- Análise de Posição de Mercado\n"
     ]
    }
   ],
   "source": [
    "print(analises_text)"
   ]
  },
  {
   "cell_type": "code",
   "execution_count": 7,
   "metadata": {
    "colab": {
     "base_uri": "https://localhost:8080/"
    },
    "id": "3C9tfTCDZuXr",
    "outputId": "f57170e1-95ff-4fb4-b080-c9dd7ae2b610"
   },
   "outputs": [
    {
     "name": "stdout",
     "output_type": "stream",
     "text": [
      "Prompt Gerado:\n",
      " \n",
      "Você é um analista financeiro.\n",
      "Escreva um relatório financeiro detalhado para a empresa \"ACME Corp\" para o período Q1 2024.\n",
      "\n",
      "O relatório deve ser escrito em Português e incluir as seguintes análises:\n",
      "- Análise do Balanço Patrimonial\n",
      "- Análise do Fluxo de Caixa\n",
      "- Análise de Tendências\n",
      "- Análise de Receita e Lucro\n",
      "- Análise de Posição de Mercado\n",
      "\n",
      "Certifique-se de fornecer insights e conclusões para cada seção.\n",
      "\n"
     ]
    }
   ],
   "source": [
    "prompt = prompt_template.format(\n",
    "    empresa=empresa,\n",
    "    periodo=periodo,\n",
    "    idioma=idioma,\n",
    "    analises=analises_text\n",
    ")\n",
    "print(\"Prompt Gerado:\\n\", prompt)"
   ]
  },
  {
   "cell_type": "markdown",
   "metadata": {},
   "source": [
    "# Chat"
   ]
  },
  {
   "cell_type": "code",
   "execution_count": 8,
   "metadata": {
    "id": "QGQUp499fKBZ"
   },
   "outputs": [],
   "source": [
    "#equivalência aos roles: system: system, Human: user, AI: assistant\n",
    "chat_template = ChatPromptTemplate.from_messages(\n",
    "    [\n",
    "        SystemMessage(content='Você deve estruturar suas respostas de acordo com o método de análise de negócios, garantindo clareza e concisão.'),\n",
    "        HumanMessagePromptTemplate.from_template('Por favor, gere um relatório detalhado sobre a indústria de tecnologia na região \"{regiao}\".'),\n",
    "        AIMessage(content='Claro, vou começar coletando informações sobre a região e analisando os dados disponíveis.'),\n",
    "        HumanMessage(content='Certifique-se de incluir uma análise SWOT e uma previsão de crescimento para os próximos 5 anos.'),\n",
    "        AIMessage(content='Entendido. Aqui está o relatório completo:')\n",
    "    ]\n",
    ")"
   ]
  },
  {
   "cell_type": "code",
   "execution_count": 9,
   "metadata": {
    "colab": {
     "base_uri": "https://localhost:8080/"
    },
    "id": "WDxgxLrofKEc",
    "outputId": "a3e79711-b163-4824-fed8-0f2c399a4b3f"
   },
   "outputs": [
    {
     "name": "stdout",
     "output_type": "stream",
     "text": [
      "[SystemMessage(content='Você deve estruturar suas respostas de acordo com o método de análise de negócios, garantindo clareza e concisão.', additional_kwargs={}, response_metadata={}), HumanMessage(content='Por favor, gere um relatório detalhado sobre a indústria de tecnologia na região \"América Latina\".', additional_kwargs={}, response_metadata={}), AIMessage(content='Claro, vou começar coletando informações sobre a região e analisando os dados disponíveis.', additional_kwargs={}, response_metadata={}), HumanMessage(content='Certifique-se de incluir uma análise SWOT e uma previsão de crescimento para os próximos 5 anos.', additional_kwargs={}, response_metadata={}), AIMessage(content='Entendido. Aqui está o relatório completo:', additional_kwargs={}, response_metadata={})]\n"
     ]
    }
   ],
   "source": [
    "prompt_gerado = chat_template.format_messages(regiao='América Latina')\n",
    "print(prompt_gerado)  "
   ]
  },
  {
   "cell_type": "code",
   "execution_count": 11,
   "metadata": {
    "colab": {
     "base_uri": "https://localhost:8080/"
    },
    "editable": true,
    "id": "daEu9my2fKHm",
    "outputId": "aeeb4f0b-a4bd-4596-c5b3-affc6b8e3426",
    "slideshow": {
     "slide_type": ""
    },
    "tags": []
   },
   "outputs": [
    {
     "name": "stdout",
     "output_type": "stream",
     "text": [
      "Saída do LLM:\n",
      "  \n",
      "\n",
      "**Relatório sobre a Indústria de Tecnologia na América Latina**\n",
      "\n",
      "**Introdução**\n",
      "\n",
      "A América Latina é uma região em constante evolução, com um crescimento econômico sustentável e uma população jovem e em constante expansão. A indústria de tecnologia na região tem sido um dos setores mais dinâmicos e promissores, com uma crescente demanda por serviços e produtos digitais. Neste relatório, vamos analisar a indústria de tecnologia na América Latina, incluindo seus principais atores, tendências, oportunidades e desafios.\n",
      "\n",
      "**Análise SWOT**\n",
      "\n",
      "**Forças (Strengths)**\n",
      "\n",
      "* Crescimento econômico sustentável: A região apresenta um crescimento econômico sustentável, o que gera uma demanda constante por serviços e produtos digitais.\n",
      "* Jovem população: A América Latina é uma região jovem, com uma população em constante expansão, o que cria uma grande base de consumidores para os produtos e serviços digitais.\n",
      "* Inovação: A região apresenta uma cultura inovadora, com muitas Startups e empresas de tecnologia emergentes.\n",
      "\n",
      "**Fraquezas (Weaknesses)**\n",
      "\n",
      "* Infraestrutura limitada: A infraestrutura de transporte e comunicação na região pode ser limitada em alguns países, o que pode afetar a entrega efetiva dos produtos e serviços digitais.\n",
      "* Competição internacional: A América Latina é uma região concorrencial em termos de tecnologia, com muitas empresas estrangeiras presentes no mercado.\n",
      "* Limitações de recursos: Algum países da região podem ter limitações de recursos financeiros e humanos para investir em tecnologia.\n",
      "\n",
      "**Oportunidades (Opportunities)**\n",
      "\n",
      "* Crescimento da demanda por serviços digitais: A demanda por serviços digitais, como e-commerce, fintech e saúde digital, está em crescimento na região.\n",
      "* Investimentos em infraestrutura: A construção de infraestrutura de transporte e comunicação pode melhorar a entrega efetiva dos produtos e serviços digitais na região.\n",
      "* Colaboração internacional: A colaboração internacional entre empresas de tecnologia da região e do mundo pode gerar novas oportunidades de negócios e inovação.\n",
      "\n",
      "**Amostras (Threats)**\n",
      "\n",
      "* Competição internacional: A competição internacional pode ser uma ameaça para as empresas de tecnologia da região, especialmente para as Startups e empresas emergentes.\n",
      "* Mudanças políticas: Mudanças políticas em alguns países da região podem afetar a estabilidade econômica e a confiança dos investidores.\n",
      "* Proteção de dados: A proteção de dados é um tema importante na região, e qualquer violação dessas proteções pode prejudicar a reputação das empresas de tecnologia.\n",
      "\n",
      "**Tendências**\n",
      "\n",
      "* Crescimento da demanda por serviços digitais, como e-commerce e fintech.\n",
      "* Investimentos em infraestrutura de transporte e comunicação.\n",
      "* Colaboração internacional entre empresas de tecnologia da região e do mundo.\n",
      "* Aumento da adoção de tecnologias emergentes, como inteligência artificial e blockchain.\n",
      "\n",
      "**Previsão de crescimento**\n",
      "\n",
      "Com base na análise SWOT e nas tendências, prevemos que a indústria de tecnologia na América Latina crescerá em uma taxa anual composta de 10% ao longo dos próximos 5 anos. Isso será impulsionado pelo crescimento da demanda por serviços digitais, investimentos em infraestrutura e colaboração internacional.\n",
      "\n",
      "**Conclusão**\n",
      "\n",
      "A indústria de tecnologia na América Latina é um setor em constante evolução, com muitas oportunidades de negócios e inovação. Embora existam desafios, como a competição internacional e a limitação de recursos, a região apresenta uma cultura inovadora e uma população jovem e em constante expansão. Com uma análise SWOT e uma previsão de crescimento, podemos identificar oportunidades e desafios e estabelecer estratégias para aproveitar essas oportunidades e superar esses desafios.\n",
      "\n",
      "**Referências**\n",
      "\n",
      "* Euromonitor International. (2020). Technology and Telecommunications in Latin America.\n",
      "* World Bank. (2020). Latin America and the Caribbean: Regional Overview.\n",
      "* Deloitte. (2020). Technology, Media and Telecommunications Predictions 2020.\n"
     ]
    }
   ],
   "source": [
    "groq = ChatGroq(model_name='llama3-8b-8192')\n",
    "response = groq.invoke(prompt_gerado)\n",
    "print(\"Saída do LLM:\\n\", response.content)"
   ]
  },
  {
   "cell_type": "code",
   "execution_count": null,
   "metadata": {},
   "outputs": [],
   "source": []
  }
 ],
 "metadata": {
  "colab": {
   "provenance": []
  },
  "kernelspec": {
   "display_name": "langchain",
   "language": "python",
   "name": "python3"
  },
  "language_info": {
   "codemirror_mode": {
    "name": "ipython",
    "version": 3
   },
   "file_extension": ".py",
   "mimetype": "text/x-python",
   "name": "python",
   "nbconvert_exporter": "python",
   "pygments_lexer": "ipython3",
   "version": "3.13.5"
  }
 },
 "nbformat": 4,
 "nbformat_minor": 4
}
